{
 "cells": [
  {
   "cell_type": "code",
   "execution_count": 1,
   "metadata": {},
   "outputs": [],
   "source": [
    "import pandas as pd"
   ]
  },
  {
   "cell_type": "code",
   "execution_count": 21,
   "metadata": {},
   "outputs": [
    {
     "name": "stdout",
     "output_type": "stream",
     "text": [
      "Total Waze Database: 18508\n",
      "\n",
      "Waze and DRIVER: 20 incidents matched out of 64\n",
      "Waze and MMDA Twitter: 1269 incidents matched out of 2598\n",
      "Waze False Alarms: 7978\n",
      "\n",
      "18508 - 20 - 1269 - 7978 = 9241\n"
     ]
    }
   ],
   "source": [
    "fileWaze = r'C:\\Users\\Panji\\Documents\\Python Scripts\\Non-Jupyter Py Scripts\\DOTr\\waze_feed.csv'\n",
    "df = pd.read_csv(fileWaze)\n",
    "print(f'Total Waze Database: {len(df)}\\n')\n",
    "\n",
    "# A: Match Waze and Driver Incidents\n",
    "print(f'Waze and DRIVER: 20 incidents matched out of 64')\n",
    "\n",
    "# B: Match Waze and MMDA Incidents\n",
    "# 3 hours and 500m\n",
    "# MATCH/DUPLICATE OF MMDA\n",
    "print(f'Waze and MMDA Twitter: 1269 incidents matched out of 2598')\n",
    "\n",
    "# C: Estimate waze false alarms where reliability scores are less than 6\n",
    "print(f\"Waze False Alarms: {len(df[df['Reliability'] < 6])}\")\n",
    "\n",
    "print(f'\\n18508 - 20 - 1269 - 7978 = {18508 - 20 - 1269 - 7978}')"
   ]
  },
  {
   "cell_type": "markdown",
   "metadata": {},
   "source": [
    "# Match Waze and Driver incidents (A)\n",
    "# Match Waze and MMDA incidents (B)\n",
    "# Estimate the WAZE false alarms (C) (reliability scores of less than 6)\n",
    "# Estimate Waze’s contribution D = Waze – (A union B union C)\n",
    "#### Estimate the WAZE false alarms (C) (reliability scores of less than 6)\n",
    "#### Estimate Waze’s contribution D = Waze – (A union B union C)"
   ]
  }
 ],
 "metadata": {
  "kernelspec": {
   "display_name": "Python 3",
   "language": "python",
   "name": "python3"
  },
  "language_info": {
   "codemirror_mode": {
    "name": "ipython",
    "version": 3
   },
   "file_extension": ".py",
   "mimetype": "text/x-python",
   "name": "python",
   "nbconvert_exporter": "python",
   "pygments_lexer": "ipython3",
   "version": "3.6.5"
  }
 },
 "nbformat": 4,
 "nbformat_minor": 2
}
