{
 "cells": [
  {
   "cell_type": "code",
   "execution_count": 1,
   "metadata": {},
   "outputs": [],
   "source": [
    "import pandas as pd\n",
    "import matplotlib.pyplot as plt\n",
    "import seaborn as sns\n",
    "import datetime as dt"
   ]
  },
  {
   "cell_type": "markdown",
   "metadata": {},
   "source": [
    "# Match Waze and Driver incidents (A)\n",
    "# Match Waze and MMDA incidents (B)\n",
    "# Estimate the WAZE false alarms (C) (reliability scores of less than 6)\n",
    "# Estimate Waze’s contribution D = Waze – (A union B union C)\n",
    "#### Estimate the WAZE false alarms (C) (reliability scores of less than 6)\n",
    "#### Estimate Waze’s contribution D = Waze – (A union B union C)"
   ]
  },
  {
   "cell_type": "markdown",
   "metadata": {},
   "source": [
    "# C - Extracting false alarms from Waze Data"
   ]
  },
  {
   "cell_type": "code",
   "execution_count": 2,
   "metadata": {},
   "outputs": [
    {
     "name": "stdout",
     "output_type": "stream",
     "text": [
      "Total DF size 18508\n",
      "False Alarms: 7978\n"
     ]
    }
   ],
   "source": [
    "df = pd.read_csv('waze_feed.csv')\n",
    "print('Total DF size',len(df))\n",
    "df = df[df['Reliability'] < 6] # dataframe 'df' Where reliability is less than 6\n",
    "print('False Alarms:', len(df))\n",
    "df.head()\n",
    "df.to_csv(r'C:\\Users\\Panji\\Documents\\Python Scripts\\Non-Jupyter Py Scripts\\DOTr\\data\\Contribution of Waze\\C - Waze False Alarm.csv')"
   ]
  },
  {
   "cell_type": "markdown",
   "metadata": {},
   "source": [
    "### Read the CSV files and store them in a pandas dataframe.\n",
    "The parameters were set to a window of 3 hours with a 500m buffer (total 1km). The CSV files used below were the output of the main script's intersection analysis module. The intersection analysis module performs a spatial joins and combined the attribute table data of point data that is within the buffer. So we are able to only capture the Waze Unique ID's that intersect with DRIVER, MMDA, and false alarm data."
   ]
  },
  {
   "cell_type": "code",
   "execution_count": 3,
   "metadata": {},
   "outputs": [],
   "source": [
    "# df_A = pd.read_csv(r'C:\\Users\\Panji\\Documents\\Python Scripts\\Non-Jupyter Py Scripts\\DOTr\\data\\Contribution of Waze\\A - WazeDriver Matches.csv')\n",
    "df_A = pd.read_csv(r'C:\\Users\\Panji\\Documents\\Python Scripts\\Non-Jupyter Py Scripts\\DOTr\\data\\Contribution of Waze\\A - WAZEDRIVER_IntersectionAnalysis_3h_500 Meters.csv')\n",
    "df_B = pd.read_csv(r'C:\\Users\\Panji\\Documents\\Python Scripts\\Non-Jupyter Py Scripts\\DOTr\\data\\Contribution of Waze\\B - WAZEMMDA_IntersectionAnalysis_3h_500 Meters.csv')\n",
    "df_C = pd.read_csv(r'C:\\Users\\Panji\\Documents\\Python Scripts\\Non-Jupyter Py Scripts\\DOTr\\data\\Contribution of Waze\\C - Waze False Alarm.csv')"
   ]
  },
  {
   "cell_type": "markdown",
   "metadata": {},
   "source": [
    "# Identify which is the column containing the unique Waze ID\n",
    "Too many columns, so I just check the file in Excel. Manually rename the target columns (Waze Unique ID) as Unique ID. The pattern of the Waze Unique ID can be easily identified when compared with the data in the other columns."
   ]
  },
  {
   "cell_type": "code",
   "execution_count": 42,
   "metadata": {},
   "outputs": [
    {
     "data": {
      "text/html": [
       "<div>\n",
       "<style scoped>\n",
       "    .dataframe tbody tr th:only-of-type {\n",
       "        vertical-align: middle;\n",
       "    }\n",
       "\n",
       "    .dataframe tbody tr th {\n",
       "        vertical-align: top;\n",
       "    }\n",
       "\n",
       "    .dataframe thead th {\n",
       "        text-align: right;\n",
       "    }\n",
       "</style>\n",
       "<table border=\"1\" class=\"dataframe\">\n",
       "  <thead>\n",
       "    <tr style=\"text-align: right;\">\n",
       "      <th></th>\n",
       "      <th>Unique ID</th>\n",
       "      <th>1</th>\n",
       "      <th>5</th>\n",
       "      <th>9</th>\n",
       "      <th>17</th>\n",
       "      <th>19</th>\n",
       "      <th>20</th>\n",
       "      <th>21</th>\n",
       "      <th>22</th>\n",
       "    </tr>\n",
       "  </thead>\n",
       "  <tbody>\n",
       "    <tr>\n",
       "      <th>0</th>\n",
       "      <td>418492b3-cea9-3b8d-9bc7-1f27ecbe3155</td>\n",
       "      <td>(120.990047, 14.560353)</td>\n",
       "      <td>November 11, 2018, 11:28:03</td>\n",
       "      <td>Jeepney</td>\n",
       "      <td>Manila</td>\n",
       "      <td>14.560353</td>\n",
       "      <td>120.990047</td>\n",
       "      <td>ACCIDENT</td>\n",
       "      <td>ACCIDENT_MAJOR</td>\n",
       "    </tr>\n",
       "    <tr>\n",
       "      <th>1</th>\n",
       "      <td>418492b3-cea9-3b8d-9bc7-1f27ecbe3155</td>\n",
       "      <td>(120.990047, 14.560353)</td>\n",
       "      <td>November 11, 2018, 11:28:03</td>\n",
       "      <td>Jeepney</td>\n",
       "      <td>Manila</td>\n",
       "      <td>14.560353</td>\n",
       "      <td>120.990047</td>\n",
       "      <td>ACCIDENT</td>\n",
       "      <td>ACCIDENT_MAJOR</td>\n",
       "    </tr>\n",
       "    <tr>\n",
       "      <th>2</th>\n",
       "      <td>418492b3-cea9-3b8d-9bc7-1f27ecbe3155</td>\n",
       "      <td>(120.990047, 14.560353)</td>\n",
       "      <td>November 11, 2018, 11:28:03</td>\n",
       "      <td>Jeepney</td>\n",
       "      <td>Manila</td>\n",
       "      <td>14.560353</td>\n",
       "      <td>120.990047</td>\n",
       "      <td>ACCIDENT</td>\n",
       "      <td>ACCIDENT_MAJOR</td>\n",
       "    </tr>\n",
       "    <tr>\n",
       "      <th>3</th>\n",
       "      <td>bfa6ee20-d747-36e4-934a-34125825906e</td>\n",
       "      <td>(121.014231, 14.602463)</td>\n",
       "      <td>November 12, 2018, 7:51:47</td>\n",
       "      <td>Motorcycle</td>\n",
       "      <td></td>\n",
       "      <td>14.602463</td>\n",
       "      <td>121.014231</td>\n",
       "      <td>ACCIDENT</td>\n",
       "      <td></td>\n",
       "    </tr>\n",
       "    <tr>\n",
       "      <th>4</th>\n",
       "      <td>df7eb2c3-3567-34a6-8b9c-c41fbfc70a6b</td>\n",
       "      <td>(121.013751, 14.602585)</td>\n",
       "      <td>November 12, 2018, 7:51:47</td>\n",
       "      <td>Motorcycle</td>\n",
       "      <td>Manila</td>\n",
       "      <td>14.602585</td>\n",
       "      <td>121.013751</td>\n",
       "      <td>ACCIDENT</td>\n",
       "      <td>ACCIDENT_MINOR</td>\n",
       "    </tr>\n",
       "  </tbody>\n",
       "</table>\n",
       "</div>"
      ],
      "text/plain": [
       "                              Unique ID                        1  \\\n",
       "0  418492b3-cea9-3b8d-9bc7-1f27ecbe3155  (120.990047, 14.560353)   \n",
       "1  418492b3-cea9-3b8d-9bc7-1f27ecbe3155  (120.990047, 14.560353)   \n",
       "2  418492b3-cea9-3b8d-9bc7-1f27ecbe3155  (120.990047, 14.560353)   \n",
       "3  bfa6ee20-d747-36e4-934a-34125825906e  (121.014231, 14.602463)   \n",
       "4  df7eb2c3-3567-34a6-8b9c-c41fbfc70a6b  (121.013751, 14.602585)   \n",
       "\n",
       "                             5           9      17         19          20  \\\n",
       "0  November 11, 2018, 11:28:03     Jeepney  Manila  14.560353  120.990047   \n",
       "1  November 11, 2018, 11:28:03     Jeepney  Manila  14.560353  120.990047   \n",
       "2  November 11, 2018, 11:28:03     Jeepney  Manila  14.560353  120.990047   \n",
       "3   November 12, 2018, 7:51:47  Motorcycle          14.602463  121.014231   \n",
       "4   November 12, 2018, 7:51:47  Motorcycle  Manila  14.602585  121.013751   \n",
       "\n",
       "         21              22  \n",
       "0  ACCIDENT  ACCIDENT_MAJOR  \n",
       "1  ACCIDENT  ACCIDENT_MAJOR  \n",
       "2  ACCIDENT  ACCIDENT_MAJOR  \n",
       "3  ACCIDENT                  \n",
       "4  ACCIDENT  ACCIDENT_MINOR  "
      ]
     },
     "execution_count": 42,
     "metadata": {},
     "output_type": "execute_result"
    }
   ],
   "source": [
    "df_A.head()"
   ]
  },
  {
   "cell_type": "code",
   "execution_count": 40,
   "metadata": {},
   "outputs": [
    {
     "data": {
      "text/html": [
       "<div>\n",
       "<style scoped>\n",
       "    .dataframe tbody tr th:only-of-type {\n",
       "        vertical-align: middle;\n",
       "    }\n",
       "\n",
       "    .dataframe tbody tr th {\n",
       "        vertical-align: top;\n",
       "    }\n",
       "\n",
       "    .dataframe thead th {\n",
       "        text-align: right;\n",
       "    }\n",
       "</style>\n",
       "<table border=\"1\" class=\"dataframe\">\n",
       "  <thead>\n",
       "    <tr style=\"text-align: right;\">\n",
       "      <th></th>\n",
       "      <th>Unique ID</th>\n",
       "      <th>5</th>\n",
       "      <th>6</th>\n",
       "      <th>9</th>\n",
       "      <th>10</th>\n",
       "      <th>11</th>\n",
       "      <th>12</th>\n",
       "      <th>14</th>\n",
       "      <th>16</th>\n",
       "      <th>43</th>\n",
       "    </tr>\n",
       "  </thead>\n",
       "  <tbody>\n",
       "    <tr>\n",
       "      <th>0</th>\n",
       "      <td>8dd649ff-fe3d-35c8-a936-61fd5d501041</td>\n",
       "      <td>11/1/2018</td>\n",
       "      <td>10:21 AM</td>\n",
       "      <td>14.589706</td>\n",
       "      <td>121.079945</td>\n",
       "      <td>SB</td>\n",
       "      <td>VEHICULAR ACCIDENT</td>\n",
       "      <td>SUV AND PUJ</td>\n",
       "      <td>https://twitter.com/mmda/status/10578217041965...</td>\n",
       "      <td>https://twitter.com/mmda/status/10578217041965...</td>\n",
       "    </tr>\n",
       "    <tr>\n",
       "      <th>1</th>\n",
       "      <td>8dd649ff-fe3d-35c8-a936-61fd5d501041</td>\n",
       "      <td>11/1/2018</td>\n",
       "      <td>10:21 AM</td>\n",
       "      <td>14.589706</td>\n",
       "      <td>121.079945</td>\n",
       "      <td>SB</td>\n",
       "      <td>VEHICULAR ACCIDENT</td>\n",
       "      <td>SUV AND PUJ</td>\n",
       "      <td>https://twitter.com/mmda/status/10578217041965...</td>\n",
       "      <td>https://twitter.com/mmda/status/10578217041965...</td>\n",
       "    </tr>\n",
       "    <tr>\n",
       "      <th>2</th>\n",
       "      <td>8dd649ff-fe3d-35c8-a936-61fd5d501041</td>\n",
       "      <td>11/1/2018</td>\n",
       "      <td>10:21 AM</td>\n",
       "      <td>14.589706</td>\n",
       "      <td>121.079945</td>\n",
       "      <td>SB</td>\n",
       "      <td>VEHICULAR ACCIDENT</td>\n",
       "      <td>SUV AND PUJ</td>\n",
       "      <td>https://twitter.com/mmda/status/10578217041965...</td>\n",
       "      <td>https://twitter.com/mmda/status/10578217041965...</td>\n",
       "    </tr>\n",
       "    <tr>\n",
       "      <th>3</th>\n",
       "      <td>74c4306b-9037-3dc6-ba36-5da10720e4c8</td>\n",
       "      <td>11/1/2018</td>\n",
       "      <td>2:16 PM</td>\n",
       "      <td>14.564141</td>\n",
       "      <td>121.069619</td>\n",
       "      <td>SB</td>\n",
       "      <td>VEHICULAR ACCIDENT</td>\n",
       "      <td>MOTORCYCLE</td>\n",
       "      <td>https://twitter.com/mmda/status/10578811022269...</td>\n",
       "      <td>https://twitter.com/mmda/status/10578811022269...</td>\n",
       "    </tr>\n",
       "    <tr>\n",
       "      <th>4</th>\n",
       "      <td>4bc9116b-164d-393b-b5db-fba7eff48758</td>\n",
       "      <td>11/1/2018</td>\n",
       "      <td>2:16 PM</td>\n",
       "      <td>14.564141</td>\n",
       "      <td>121.069619</td>\n",
       "      <td>SB</td>\n",
       "      <td>VEHICULAR ACCIDENT</td>\n",
       "      <td>MOTORCYCLE</td>\n",
       "      <td>https://twitter.com/mmda/status/10578811022269...</td>\n",
       "      <td>https://twitter.com/mmda/status/10578811022269...</td>\n",
       "    </tr>\n",
       "  </tbody>\n",
       "</table>\n",
       "</div>"
      ],
      "text/plain": [
       "                              Unique ID          5         6          9  \\\n",
       "0  8dd649ff-fe3d-35c8-a936-61fd5d501041  11/1/2018  10:21 AM  14.589706   \n",
       "1  8dd649ff-fe3d-35c8-a936-61fd5d501041  11/1/2018  10:21 AM  14.589706   \n",
       "2  8dd649ff-fe3d-35c8-a936-61fd5d501041  11/1/2018  10:21 AM  14.589706   \n",
       "3  74c4306b-9037-3dc6-ba36-5da10720e4c8  11/1/2018   2:16 PM  14.564141   \n",
       "4  4bc9116b-164d-393b-b5db-fba7eff48758  11/1/2018   2:16 PM  14.564141   \n",
       "\n",
       "           10  11                  12           14  \\\n",
       "0  121.079945  SB  VEHICULAR ACCIDENT  SUV AND PUJ   \n",
       "1  121.079945  SB  VEHICULAR ACCIDENT  SUV AND PUJ   \n",
       "2  121.079945  SB  VEHICULAR ACCIDENT  SUV AND PUJ   \n",
       "3  121.069619  SB  VEHICULAR ACCIDENT   MOTORCYCLE   \n",
       "4  121.069619  SB  VEHICULAR ACCIDENT   MOTORCYCLE   \n",
       "\n",
       "                                                  16  \\\n",
       "0  https://twitter.com/mmda/status/10578217041965...   \n",
       "1  https://twitter.com/mmda/status/10578217041965...   \n",
       "2  https://twitter.com/mmda/status/10578217041965...   \n",
       "3  https://twitter.com/mmda/status/10578811022269...   \n",
       "4  https://twitter.com/mmda/status/10578811022269...   \n",
       "\n",
       "                                                  43  \n",
       "0  https://twitter.com/mmda/status/10578217041965...  \n",
       "1  https://twitter.com/mmda/status/10578217041965...  \n",
       "2  https://twitter.com/mmda/status/10578217041965...  \n",
       "3  https://twitter.com/mmda/status/10578811022269...  \n",
       "4  https://twitter.com/mmda/status/10578811022269...  "
      ]
     },
     "execution_count": 40,
     "metadata": {},
     "output_type": "execute_result"
    }
   ],
   "source": [
    "df_B.head()"
   ]
  },
  {
   "cell_type": "code",
   "execution_count": 37,
   "metadata": {},
   "outputs": [
    {
     "data": {
      "text/html": [
       "<div>\n",
       "<style scoped>\n",
       "    .dataframe tbody tr th:only-of-type {\n",
       "        vertical-align: middle;\n",
       "    }\n",
       "\n",
       "    .dataframe tbody tr th {\n",
       "        vertical-align: top;\n",
       "    }\n",
       "\n",
       "    .dataframe thead th {\n",
       "        text-align: right;\n",
       "    }\n",
       "</style>\n",
       "<table border=\"1\" class=\"dataframe\">\n",
       "  <thead>\n",
       "    <tr style=\"text-align: right;\">\n",
       "      <th></th>\n",
       "      <th>Unnamed: 0</th>\n",
       "      <th>Timestamp</th>\n",
       "      <th>Unique ID</th>\n",
       "      <th>Title</th>\n",
       "      <th>City</th>\n",
       "      <th>Street</th>\n",
       "      <th>Latitude</th>\n",
       "      <th>Longitude</th>\n",
       "      <th>Type</th>\n",
       "      <th>Subtype</th>\n",
       "      <th>Confidence</th>\n",
       "      <th>Reliability</th>\n",
       "    </tr>\n",
       "  </thead>\n",
       "  <tbody>\n",
       "    <tr>\n",
       "      <th>0</th>\n",
       "      <td>0</td>\n",
       "      <td>10/31/2018 16:54</td>\n",
       "      <td>d8f32e6b-5b8b-352c-8cb6-7a6a0957bee6</td>\n",
       "      <td>alert</td>\n",
       "      <td>NaN</td>\n",
       "      <td>E2: SLEX N On-Ramp</td>\n",
       "      <td>14.386374</td>\n",
       "      <td>121.040073</td>\n",
       "      <td>ACCIDENT</td>\n",
       "      <td>ACCIDENT_MAJOR</td>\n",
       "      <td>0</td>\n",
       "      <td>5</td>\n",
       "    </tr>\n",
       "    <tr>\n",
       "      <th>1</th>\n",
       "      <td>9</td>\n",
       "      <td>10/31/2018 17:05</td>\n",
       "      <td>82587099-eb54-30b9-8e8c-2a8276522154</td>\n",
       "      <td>alert</td>\n",
       "      <td>Makati</td>\n",
       "      <td>1: Magallanes Flyover N</td>\n",
       "      <td>14.539980</td>\n",
       "      <td>121.015950</td>\n",
       "      <td>ACCIDENT</td>\n",
       "      <td>ACCIDENT_MINOR</td>\n",
       "      <td>0</td>\n",
       "      <td>5</td>\n",
       "    </tr>\n",
       "    <tr>\n",
       "      <th>2</th>\n",
       "      <td>15</td>\n",
       "      <td>10/31/2018 17:07</td>\n",
       "      <td>5bdd4507-1b14-3a54-9602-cfa14b5b9fc4</td>\n",
       "      <td>alert</td>\n",
       "      <td>Mandaluyong</td>\n",
       "      <td>1: EDSA N</td>\n",
       "      <td>14.574098</td>\n",
       "      <td>121.048584</td>\n",
       "      <td>ACCIDENT</td>\n",
       "      <td>ACCIDENT_MINOR</td>\n",
       "      <td>0</td>\n",
       "      <td>5</td>\n",
       "    </tr>\n",
       "    <tr>\n",
       "      <th>3</th>\n",
       "      <td>16</td>\n",
       "      <td>10/31/2018 17:08</td>\n",
       "      <td>68590238-9d3c-31e6-a8ef-c0ca1acc14f9</td>\n",
       "      <td>alert</td>\n",
       "      <td>Mandaluyong</td>\n",
       "      <td>1: EDSA N</td>\n",
       "      <td>14.574399</td>\n",
       "      <td>121.048801</td>\n",
       "      <td>ACCIDENT</td>\n",
       "      <td>NaN</td>\n",
       "      <td>0</td>\n",
       "      <td>5</td>\n",
       "    </tr>\n",
       "    <tr>\n",
       "      <th>4</th>\n",
       "      <td>20</td>\n",
       "      <td>10/31/2018 17:05</td>\n",
       "      <td>82587099-eb54-30b9-8e8c-2a8276522154</td>\n",
       "      <td>alert</td>\n",
       "      <td>Makati</td>\n",
       "      <td>1: Magallanes Flyover N</td>\n",
       "      <td>14.539980</td>\n",
       "      <td>121.015950</td>\n",
       "      <td>ACCIDENT</td>\n",
       "      <td>ACCIDENT_MINOR</td>\n",
       "      <td>0</td>\n",
       "      <td>5</td>\n",
       "    </tr>\n",
       "  </tbody>\n",
       "</table>\n",
       "</div>"
      ],
      "text/plain": [
       "   Unnamed: 0         Timestamp                             Unique ID  Title  \\\n",
       "0           0  10/31/2018 16:54  d8f32e6b-5b8b-352c-8cb6-7a6a0957bee6  alert   \n",
       "1           9  10/31/2018 17:05  82587099-eb54-30b9-8e8c-2a8276522154  alert   \n",
       "2          15  10/31/2018 17:07  5bdd4507-1b14-3a54-9602-cfa14b5b9fc4  alert   \n",
       "3          16  10/31/2018 17:08  68590238-9d3c-31e6-a8ef-c0ca1acc14f9  alert   \n",
       "4          20  10/31/2018 17:05  82587099-eb54-30b9-8e8c-2a8276522154  alert   \n",
       "\n",
       "          City                   Street   Latitude   Longitude      Type  \\\n",
       "0          NaN       E2: SLEX N On-Ramp  14.386374  121.040073  ACCIDENT   \n",
       "1       Makati  1: Magallanes Flyover N  14.539980  121.015950  ACCIDENT   \n",
       "2  Mandaluyong                1: EDSA N  14.574098  121.048584  ACCIDENT   \n",
       "3  Mandaluyong                1: EDSA N  14.574399  121.048801  ACCIDENT   \n",
       "4       Makati  1: Magallanes Flyover N  14.539980  121.015950  ACCIDENT   \n",
       "\n",
       "          Subtype  Confidence  Reliability  \n",
       "0  ACCIDENT_MAJOR           0            5  \n",
       "1  ACCIDENT_MINOR           0            5  \n",
       "2  ACCIDENT_MINOR           0            5  \n",
       "3             NaN           0            5  \n",
       "4  ACCIDENT_MINOR           0            5  "
      ]
     },
     "execution_count": 37,
     "metadata": {},
     "output_type": "execute_result"
    }
   ],
   "source": [
    "df_C.head()"
   ]
  },
  {
   "cell_type": "markdown",
   "metadata": {},
   "source": [
    "# Get the unique ID's from all dataframes\n",
    "Note: Data C does not contain duplicate ID's because it comes directly from Waze and no spatial join was conducted on this data."
   ]
  },
  {
   "cell_type": "code",
   "execution_count": 4,
   "metadata": {},
   "outputs": [
    {
     "name": "stdout",
     "output_type": "stream",
     "text": [
      "Dataframe Size (A): 30\n",
      "Dataframe Size (B): 1366\n"
     ]
    }
   ],
   "source": [
    "# Clean up duplicate Unique ID's\n",
    "# There are duplicates because of the nature of the spatial join.\n",
    "df_A.drop_duplicates('Unique ID', inplace=True)\n",
    "print('Dataframe Size (A):', len(df_A))\n",
    "df_B.drop_duplicates('Unique ID', inplace=True)\n",
    "print('Dataframe Size (B):', len(df_B))"
   ]
  },
  {
   "cell_type": "markdown",
   "metadata": {},
   "source": [
    "Size of the dataframes are checked just to verify all information is transferred from the column into the list."
   ]
  },
  {
   "cell_type": "code",
   "execution_count": 5,
   "metadata": {},
   "outputs": [
    {
     "name": "stdout",
     "output_type": "stream",
     "text": [
      "List Size (A) 30\n",
      "List Size (B) 1366\n",
      "List Size (C) 7978\n"
     ]
    }
   ],
   "source": [
    "# Data A\n",
    "listA = []\n",
    "for x in df_A['Unique ID']:\n",
    "    listA.append(x)\n",
    "print('List Size (A)', len(listA))\n",
    "\n",
    "# Data B\n",
    "listB = []\n",
    "for x in df_B['Unique ID']:\n",
    "    listB.append(x)\n",
    "print('List Size (B)', len(listB))\n",
    "\n",
    "# Data C\n",
    "listC = []\n",
    "for x in df_C['Unique ID']:\n",
    "    listC.append(x)\n",
    "print('List Size (C)', len(listC))"
   ]
  },
  {
   "cell_type": "markdown",
   "metadata": {},
   "source": [
    "### Combine Waze ID's into one big list"
   ]
  },
  {
   "cell_type": "code",
   "execution_count": 6,
   "metadata": {},
   "outputs": [
    {
     "name": "stdout",
     "output_type": "stream",
     "text": [
      "Combined List (A,B,C) 9374\n"
     ]
    }
   ],
   "source": [
    "combinedList = listA + listB + listC\n",
    "print('Combined List (A,B,C)', len(combinedList))"
   ]
  },
  {
   "cell_type": "markdown",
   "metadata": {},
   "source": [
    "### Use the combined list to remove Waze data that contain matching Unique ID\n",
    "### Drop matching rows in waze dataset that match the previous lists to create dataset D"
   ]
  },
  {
   "cell_type": "markdown",
   "metadata": {},
   "source": [
    "We are looking at the time bin by the **hour** only so we will create a new column that will only display the hour of the incident. Then we will drop the rows that match the ID's in the combined list which will create our datasat D - contribution of waze."
   ]
  },
  {
   "cell_type": "code",
   "execution_count": 7,
   "metadata": {},
   "outputs": [],
   "source": [
    "df = pd.read_csv('waze_feed.csv')\n",
    "# df['Timestamp'] = df['Timestamp'].str.split(' ').str[1]\n",
    "df['Timestamp'] = pd.to_datetime(df['Timestamp'])\n",
    "df['HOUR'] = df['Timestamp'].dt.hour\n",
    "\n",
    "# We subtract by 1 to get the true size of the dataframe\n",
    "for x in range(0,(len(df)-1)):\n",
    "        \n",
    "    if df.loc[x]['Unique ID'] in combinedList:\n",
    "        df.drop(index=x, inplace=True)"
   ]
  },
  {
   "cell_type": "code",
   "execution_count": 8,
   "metadata": {},
   "outputs": [
    {
     "name": "stderr",
     "output_type": "stream",
     "text": [
      "C:\\ProgramData\\Anaconda3\\lib\\site-packages\\matplotlib\\axes\\_axes.py:6462: UserWarning: The 'normed' kwarg is deprecated, and has been replaced by the 'density' kwarg.\n",
      "  warnings.warn(\"The 'normed' kwarg is deprecated, and has been \"\n"
     ]
    },
    {
     "data": {
      "text/plain": [
       "Text(0.5,1,'Distribution of Waze Matches with 3 Hour Bins')"
      ]
     },
     "execution_count": 8,
     "metadata": {},
     "output_type": "execute_result"
    },
    {
     "data": {
      "image/png": "[encoded data removed]",
      "text/plain": [
       "<Figure size 432x288 with 1 Axes>"
      ]
     },
     "metadata": {},
     "output_type": "display_data"
    }
   ],
   "source": [
    "sns.distplot(df['HOUR'],kde=False,bins=8)\n",
    "plt.xlabel(\"Hours\")\n",
    "plt.ylabel(\"Count\")\n",
    "plt.title('Distribution of Waze Matches with 3 Hour Bins')"
   ]
  },
  {
   "cell_type": "markdown",
   "metadata": {},
   "source": [
    "# Seperating the data into 3 hour bins"
   ]
  },
  {
   "cell_type": "code",
   "execution_count": 10,
   "metadata": {},
   "outputs": [
    {
     "name": "stdout",
     "output_type": "stream",
     "text": [
      "00:00-02:59 363\n",
      "03:00-05:59 281\n",
      "06:00-08:59 1013\n",
      "09:00-11:59 1057\n",
      "12:00-14:59 1318\n",
      "15:00-17:59 1806\n",
      "18:00-20:59 2427\n",
      "21:00-23:59 1217\n"
     ]
    }
   ],
   "source": [
    "df_0_3 = df[(df['HOUR'] >= 0) & (df['HOUR'] < 3)]\n",
    "print('00:00-02:59', len(df_0_3))\n",
    "df_3_6 = df[(df['HOUR'] >= 3) & (df['HOUR'] < 6)]\n",
    "print('03:00-05:59', len(df_3_6))\n",
    "df_6_9 = df[(df['HOUR'] >= 6) & (df['HOUR'] < 9)]\n",
    "print('06:00-08:59', len(df_6_9))\n",
    "df_9_12 = df[(df['HOUR'] >= 9) & (df['HOUR'] < 12)]\n",
    "print('09:00-11:59', len(df_9_12))\n",
    "df_12_15 = df[(df['HOUR'] >= 12) & (df['HOUR'] < 15)]\n",
    "print('12:00-14:59', len(df_12_15))\n",
    "df_15_18 = df[(df['HOUR'] >= 15) & (df['HOUR'] < 18)]\n",
    "print('15:00-17:59', len(df_15_18))\n",
    "df_18_21 = df[(df['HOUR'] >= 18) & (df['HOUR'] < 21)]\n",
    "print('18:00-20:59', len(df_18_21))\n",
    "df_21_24 = df[(df['HOUR'] >= 21) & (df['HOUR'] < 24)]\n",
    "print('21:00-23:59', len(df_21_24))\n",
    "\n",
    "df_0_3.to_csv(r'C:\\Users\\Panji\\Documents\\Python Scripts\\Non-Jupyter Py Scripts\\DOTr\\data\\Contribution of Waze\\FOR GIS\\0_3.csv')\n",
    "df_3_6.to_csv(r'C:\\Users\\Panji\\Documents\\Python Scripts\\Non-Jupyter Py Scripts\\DOTr\\data\\Contribution of Waze\\FOR GIS\\3_6.csv')\n",
    "df_6_9.to_csv(r'C:\\Users\\Panji\\Documents\\Python Scripts\\Non-Jupyter Py Scripts\\DOTr\\data\\Contribution of Waze\\FOR GIS\\6_9.csv')\n",
    "df_9_12.to_csv(r'C:\\Users\\Panji\\Documents\\Python Scripts\\Non-Jupyter Py Scripts\\DOTr\\data\\Contribution of Waze\\FOR GIS\\9_12.csv')\n",
    "df_12_15.to_csv(r'C:\\Users\\Panji\\Documents\\Python Scripts\\Non-Jupyter Py Scripts\\DOTr\\data\\Contribution of Waze\\FOR GIS\\12_15.csv')\n",
    "df_15_18.to_csv(r'C:\\Users\\Panji\\Documents\\Python Scripts\\Non-Jupyter Py Scripts\\DOTr\\data\\Contribution of Waze\\FOR GIS\\15_18.csv')\n",
    "df_18_21.to_csv(r'C:\\Users\\Panji\\Documents\\Python Scripts\\Non-Jupyter Py Scripts\\DOTr\\data\\Contribution of Waze\\FOR GIS\\18_21.csv')\n",
    "df_21_24.to_csv(r'C:\\Users\\Panji\\Documents\\Python Scripts\\Non-Jupyter Py Scripts\\DOTr\\data\\Contribution of Waze\\FOR GIS\\21_24.csv')"
   ]
  },
  {
   "cell_type": "markdown",
   "metadata": {},
   "source": []
  },
  {
   "cell_type": "code",
   "execution_count": null,
   "metadata": {},
   "outputs": [],
   "source": []
  }
 ],
 "metadata": {
  "kernelspec": {
   "display_name": "Python 3",
   "language": "python",
   "name": "python3"
  },
  "language_info": {
   "codemirror_mode": {
    "name": "ipython",
    "version": 3
   },
   "file_extension": ".py",
   "mimetype": "text/x-python",
   "name": "python",
   "nbconvert_exporter": "python",
   "pygments_lexer": "ipython3",
   "version": "3.6.5"
  }
 },
 "nbformat": 4,
 "nbformat_minor": 2
}
